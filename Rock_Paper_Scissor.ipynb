{
  "nbformat": 4,
  "nbformat_minor": 0,
  "metadata": {
    "colab": {
      "provenance": [],
      "authorship_tag": "ABX9TyPNRoTJCe2B15OqnUnnCm2S",
      "include_colab_link": true
    },
    "kernelspec": {
      "name": "python3",
      "display_name": "Python 3"
    },
    "language_info": {
      "name": "python"
    }
  },
  "cells": [
    {
      "cell_type": "markdown",
      "metadata": {
        "id": "view-in-github",
        "colab_type": "text"
      },
      "source": [
        "<a href=\"https://colab.research.google.com/github/Gayathri-achari/Projects/blob/Rock-Paper-Scissor/Rock_Paper_Scissor.ipynb\" target=\"_parent\"><img src=\"https://colab.research.google.com/assets/colab-badge.svg\" alt=\"Open In Colab\"/></a>"
      ]
    },
    {
      "cell_type": "code",
      "execution_count": 1,
      "metadata": {
        "colab": {
          "base_uri": "https://localhost:8080/"
        },
        "id": "z5fkZNjDQm-H",
        "outputId": "e5b2ec90-f0a3-4f12-f0d0-78976399d8de"
      },
      "outputs": [
        {
          "output_type": "stream",
          "name": "stdout",
          "text": [
            "Enter your choice: Type 0 for Rock, 1 for Paper, 2 for Scissors.2\n",
            "Computer choice: \n",
            "0\n",
            "You Win\n"
          ]
        }
      ],
      "source": [
        "import random\n",
        "user_choice = int(input(\"Enter your choice: Type 0 for Rock, 1 for Paper, 2 for Scissors.\"))\n",
        "computer_choice = random.randint(0, 2)\n",
        "print(\"Computer choice: \")\n",
        "print(computer_choice)\n",
        "if(computer_choice == user_choice):\n",
        "    print(\"It's Draw\")\n",
        "elif (computer_choice > user_choice):\n",
        "    print(\"You Lose\")\n",
        "elif (computer_choice < user_choice):\n",
        "    print(\"You Win\")\n",
        "elif (computer_choice == 0 and user_choice == 2):\n",
        "    print(\"You Lose\")\n",
        "elif (computer_choice == 2 and user_choice == 0):\n",
        "    print(\"You Win\")\n",
        ""
      ]
    }
  ]
}