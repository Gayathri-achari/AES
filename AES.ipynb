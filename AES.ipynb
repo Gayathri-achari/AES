{
  "nbformat": 4,
  "nbformat_minor": 0,
  "metadata": {
    "colab": {
      "provenance": [],
      "authorship_tag": "ABX9TyOULmt4u5T6+fJqN3QPF4XO",
      "include_colab_link": true
    },
    "kernelspec": {
      "name": "python3",
      "display_name": "Python 3"
    },
    "language_info": {
      "name": "python"
    }
  },
  "cells": [
    {
      "cell_type": "markdown",
      "metadata": {
        "id": "view-in-github",
        "colab_type": "text"
      },
      "source": [
        "<a href=\"https://colab.research.google.com/github/Gayathri-achari/AES/blob/Projects/AES.ipynb\" target=\"_parent\"><img src=\"https://colab.research.google.com/assets/colab-badge.svg\" alt=\"Open In Colab\"/></a>"
      ]
    },
    {
      "cell_type": "code",
      "source": [
        "import pandas as pd\n",
        "import numpy as np\n",
        "import nltk\n",
        "from sklearn.model_selection import train_test_split\n",
        "from sklearn.ensemble import RandomForestRegressor\n",
        "from sklearn.metrics import mean_squared_error\n",
        "\n",
        "# Download NLTK data if not already present\n",
        "try:\n",
        "    nltk.data.find('tokenizers/punkt_tab/')\n",
        "except LookupError:\n",
        "    nltk.download('punkt_tab')\n",
        "\n",
        "# Sample data loading\n",
        "# Assume 'essays.csv' contains two columns: 'essay' and 'score'\n",
        "data = pd.read_csv('/archive (2).zip')\n",
        "\n",
        "# --- Start of added code ---\n",
        "# Print column names to inspect them\n",
        "print(\"Columns in the DataFrame:\")\n",
        "print(data.columns)\n",
        "# --- End of added code ---\n",
        "\n",
        "# Feature extraction\n",
        "def extract_features(essay):\n",
        "    words = nltk.word_tokenize(essay)\n",
        "    sentences = nltk.sent_tokenize(essay)\n",
        "    return {\n",
        "        'word_count': len(words),\n",
        "        'sentence_count': len(sentences),\n",
        "        'average_word_length': np.mean([len(word) for word in words]) if words else 0\n",
        "    }\n",
        "\n",
        "# Create feature set\n",
        "# If the column name is different, replace 'essay' with the correct column name found above\n",
        "features = data['full_text'].apply(extract_features).tolist()\n",
        "features_df = pd.DataFrame(features)\n",
        "\n",
        "# Prepare data for training\n",
        "# If the score column name is different, replace 'score' with the correct column name\n",
        "X = features_df\n",
        "y = data['score']\n",
        "\n",
        "# Split the data\n",
        "X_train, X_test, y_train, y_test = train_test_split(X, y, test_size=0.2, random_state=42)\n",
        "\n",
        "# Model training\n",
        "model = RandomForestRegressor(n_estimators=100, random_state=42)\n",
        "model.fit(X_train, y_train)\n",
        "\n",
        "# Predictions\n",
        "predictions = model.predict(X_test)\n",
        "\n",
        "# Evaluation\n",
        "mse = mean_squared_error(y_test, predictions)\n",
        "print(f'Mean Squared Error: {mse}')\n",
        "\n",
        "# Function to score new essays\n",
        "def score_essay(essay):\n",
        "    features = extract_features(essay)\n",
        "    features_df = pd.DataFrame([features])\n",
        "    return model.predict(features_df)[0]\n",
        "\n",
        "# Example usage\n",
        "new_essay = \"This is a sample essay to be scored.\"\n",
        "score = score_essay(new_essay)\n",
        "print(f'The predicted score for the essay is: {score}')"
      ],
      "metadata": {
        "colab": {
          "base_uri": "https://localhost:8080/"
        },
        "id": "pnlO_5pInA-a",
        "outputId": "1e537a1a-3687-4f3b-d0ac-4ca6555a538a"
      },
      "execution_count": null,
      "outputs": [
        {
          "output_type": "stream",
          "name": "stderr",
          "text": [
            "[nltk_data] Downloading package punkt_tab to /root/nltk_data...\n",
            "[nltk_data]   Unzipping tokenizers/punkt_tab.zip.\n"
          ]
        },
        {
          "output_type": "stream",
          "name": "stdout",
          "text": [
            "Columns in the DataFrame:\n",
            "Index(['essay_id', 'full_text', 'score'], dtype='object')\n",
            "Mean Squared Error: 0.5651092212669246\n",
            "The predicted score for the essay is: 1.38\n"
          ]
        }
      ]
    }
  ]
}